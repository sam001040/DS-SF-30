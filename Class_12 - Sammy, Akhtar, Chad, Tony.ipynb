{
 "cells": [
  {
   "cell_type": "code",
   "execution_count": 1,
   "metadata": {
    "collapsed": false
   },
   "outputs": [
    {
     "name": "stderr",
     "output_type": "stream",
     "text": [
      "/Users/schopra/anaconda2/lib/python2.7/site-packages/matplotlib/font_manager.py:273: UserWarning: Matplotlib is building the font cache using fc-list. This may take a moment.\n",
      "  warnings.warn('Matplotlib is building the font cache using fc-list. This may take a moment.')\n"
     ]
    }
   ],
   "source": [
    "# group members: Sammy, Akhtar, Chad, Tony\n",
    "import os\n",
    "import statsmodels.api as sm\n",
    "\n",
    "import numpy as np\n",
    "import pandas as pd\n",
    "pd.set_option('display.max_rows', 10)\n",
    "pd.set_option('display.notebook_repr_html', True)\n",
    "pd.set_option('display.max_columns', 10)\n",
    "\n",
    "from sklearn import linear_model, cross_validation\n",
    "import matplotlib.pyplot as plt\n",
    "from sklearn import preprocessing, neighbors, grid_search, cross_validation, linear_model, metrics\n",
    "\n",
    "%matplotlib inline\n",
    "plt.style.use('ggplot')"
   ]
  },
  {
   "cell_type": "code",
   "execution_count": null,
   "metadata": {
    "collapsed": true
   },
   "outputs": [],
   "source": [
    "# Sammy, Akhtar, Chad, Tony"
   ]
  },
  {
   "cell_type": "code",
   "execution_count": 2,
   "metadata": {
    "collapsed": true
   },
   "outputs": [],
   "source": [
    "df = pd.read_csv(os.path.join('dataset-12-walget-train.csv')) # read dataset "
   ]
  },
  {
   "cell_type": "code",
   "execution_count": 3,
   "metadata": {
    "collapsed": false
   },
   "outputs": [],
   "source": [
    "df.dropna(subset = ['AccountHolderAddress',\n",
    "'RecentlyPurchasedPregnancyTest',\n",
    "'RecentlyPurchasedBirthControl',\n",
    "'RecentlyPurchasedFeminineHygieneProducts',\n",
    "'RecentlyPurchasedFolicAcidSupplements',\n",
    "'RecentlyPurchasedPrenatalVitamins',\n",
    "'RecentlyPurchasedPrenatalYogaDVD',\n",
    "'RecentlyPurchasedBodyPillow',\n",
    "'RecentlyPurchasedGingerAle',\n",
    "'RecentlyPurchasedSeaBands',\n",
    "'PurchasedCigarettesRegularlyUntilRecentlyThenStopped',\n",
    "'RecentlyPurchasedCigarettes',\n",
    "'RecentlyPurchasedSmokingCessationProducts',\n",
    "'PurchasedWineRegularlyUntilRecentlyThenStopped',\n",
    "'RecentlyPurchasedWine',\n",
    "'RecentlyPurchasedMaternityClothing',\n",
    "'IsPregnant',\n",
    "], inplace = True) # drop values that contain NaN (or do not exist), except for gender "
   ]
  },
  {
   "cell_type": "code",
   "execution_count": 4,
   "metadata": {
    "collapsed": false
   },
   "outputs": [
    {
     "data": {
      "text/html": [
       "<div>\n",
       "<table border=\"1\" class=\"dataframe\">\n",
       "  <thead>\n",
       "    <tr style=\"text-align: right;\">\n",
       "      <th></th>\n",
       "      <th>AccountHolderImpliedGender</th>\n",
       "      <th>AccountHolderAddress</th>\n",
       "      <th>RecentlyPurchasedPregnancyTest</th>\n",
       "      <th>RecentlyPurchasedBirthControl</th>\n",
       "      <th>RecentlyPurchasedFeminineHygieneProducts</th>\n",
       "      <th>...</th>\n",
       "      <th>RecentlyPurchasedSmokingCessationProducts</th>\n",
       "      <th>PurchasedWineRegularlyUntilRecentlyThenStopped</th>\n",
       "      <th>RecentlyPurchasedWine</th>\n",
       "      <th>RecentlyPurchasedMaternityClothing</th>\n",
       "      <th>IsPregnant</th>\n",
       "    </tr>\n",
       "  </thead>\n",
       "  <tbody>\n",
       "    <tr>\n",
       "      <th>0</th>\n",
       "      <td>Female</td>\n",
       "      <td>Apartment</td>\n",
       "      <td>0</td>\n",
       "      <td>1</td>\n",
       "      <td>0</td>\n",
       "      <td>...</td>\n",
       "      <td>0</td>\n",
       "      <td>0</td>\n",
       "      <td>0</td>\n",
       "      <td>0</td>\n",
       "      <td>False</td>\n",
       "    </tr>\n",
       "    <tr>\n",
       "      <th>1</th>\n",
       "      <td>Male</td>\n",
       "      <td>Apartment</td>\n",
       "      <td>0</td>\n",
       "      <td>0</td>\n",
       "      <td>1</td>\n",
       "      <td>...</td>\n",
       "      <td>0</td>\n",
       "      <td>0</td>\n",
       "      <td>1</td>\n",
       "      <td>0</td>\n",
       "      <td>False</td>\n",
       "    </tr>\n",
       "    <tr>\n",
       "      <th>2</th>\n",
       "      <td>Male</td>\n",
       "      <td>Apartment</td>\n",
       "      <td>0</td>\n",
       "      <td>0</td>\n",
       "      <td>0</td>\n",
       "      <td>...</td>\n",
       "      <td>0</td>\n",
       "      <td>0</td>\n",
       "      <td>0</td>\n",
       "      <td>0</td>\n",
       "      <td>False</td>\n",
       "    </tr>\n",
       "    <tr>\n",
       "      <th>3</th>\n",
       "      <td>Male</td>\n",
       "      <td>Apartment</td>\n",
       "      <td>0</td>\n",
       "      <td>0</td>\n",
       "      <td>0</td>\n",
       "      <td>...</td>\n",
       "      <td>0</td>\n",
       "      <td>0</td>\n",
       "      <td>1</td>\n",
       "      <td>0</td>\n",
       "      <td>False</td>\n",
       "    </tr>\n",
       "    <tr>\n",
       "      <th>4</th>\n",
       "      <td>Male</td>\n",
       "      <td>Apartment</td>\n",
       "      <td>0</td>\n",
       "      <td>0</td>\n",
       "      <td>1</td>\n",
       "      <td>...</td>\n",
       "      <td>0</td>\n",
       "      <td>0</td>\n",
       "      <td>0</td>\n",
       "      <td>0</td>\n",
       "      <td>False</td>\n",
       "    </tr>\n",
       "    <tr>\n",
       "      <th>...</th>\n",
       "      <td>...</td>\n",
       "      <td>...</td>\n",
       "      <td>...</td>\n",
       "      <td>...</td>\n",
       "      <td>...</td>\n",
       "      <td>...</td>\n",
       "      <td>...</td>\n",
       "      <td>...</td>\n",
       "      <td>...</td>\n",
       "      <td>...</td>\n",
       "      <td>...</td>\n",
       "    </tr>\n",
       "    <tr>\n",
       "      <th>594</th>\n",
       "      <td>Female</td>\n",
       "      <td>Apartment</td>\n",
       "      <td>0</td>\n",
       "      <td>0</td>\n",
       "      <td>0</td>\n",
       "      <td>...</td>\n",
       "      <td>0</td>\n",
       "      <td>0</td>\n",
       "      <td>0</td>\n",
       "      <td>0</td>\n",
       "      <td>True</td>\n",
       "    </tr>\n",
       "    <tr>\n",
       "      <th>596</th>\n",
       "      <td>Female</td>\n",
       "      <td>Home</td>\n",
       "      <td>0</td>\n",
       "      <td>0</td>\n",
       "      <td>0</td>\n",
       "      <td>...</td>\n",
       "      <td>0</td>\n",
       "      <td>0</td>\n",
       "      <td>0</td>\n",
       "      <td>0</td>\n",
       "      <td>True</td>\n",
       "    </tr>\n",
       "    <tr>\n",
       "      <th>597</th>\n",
       "      <td>Female</td>\n",
       "      <td>Apartment</td>\n",
       "      <td>0</td>\n",
       "      <td>0</td>\n",
       "      <td>0</td>\n",
       "      <td>...</td>\n",
       "      <td>0</td>\n",
       "      <td>0</td>\n",
       "      <td>0</td>\n",
       "      <td>1</td>\n",
       "      <td>True</td>\n",
       "    </tr>\n",
       "    <tr>\n",
       "      <th>598</th>\n",
       "      <td>Female</td>\n",
       "      <td>Home</td>\n",
       "      <td>0</td>\n",
       "      <td>0</td>\n",
       "      <td>1</td>\n",
       "      <td>...</td>\n",
       "      <td>0</td>\n",
       "      <td>0</td>\n",
       "      <td>0</td>\n",
       "      <td>0</td>\n",
       "      <td>True</td>\n",
       "    </tr>\n",
       "    <tr>\n",
       "      <th>599</th>\n",
       "      <td>Female</td>\n",
       "      <td>Apartment</td>\n",
       "      <td>1</td>\n",
       "      <td>0</td>\n",
       "      <td>0</td>\n",
       "      <td>...</td>\n",
       "      <td>0</td>\n",
       "      <td>0</td>\n",
       "      <td>0</td>\n",
       "      <td>0</td>\n",
       "      <td>True</td>\n",
       "    </tr>\n",
       "  </tbody>\n",
       "</table>\n",
       "<p>495 rows × 18 columns</p>\n",
       "</div>"
      ],
      "text/plain": [
       "    AccountHolderImpliedGender AccountHolderAddress  \\\n",
       "0                       Female            Apartment   \n",
       "1                         Male            Apartment   \n",
       "2                         Male            Apartment   \n",
       "3                         Male            Apartment   \n",
       "4                         Male            Apartment   \n",
       "..                         ...                  ...   \n",
       "594                     Female            Apartment   \n",
       "596                     Female                 Home   \n",
       "597                     Female            Apartment   \n",
       "598                     Female                 Home   \n",
       "599                     Female            Apartment   \n",
       "\n",
       "     RecentlyPurchasedPregnancyTest  RecentlyPurchasedBirthControl  \\\n",
       "0                                 0                              1   \n",
       "1                                 0                              0   \n",
       "2                                 0                              0   \n",
       "3                                 0                              0   \n",
       "4                                 0                              0   \n",
       "..                              ...                            ...   \n",
       "594                               0                              0   \n",
       "596                               0                              0   \n",
       "597                               0                              0   \n",
       "598                               0                              0   \n",
       "599                               1                              0   \n",
       "\n",
       "     RecentlyPurchasedFeminineHygieneProducts     ...      \\\n",
       "0                                           0     ...       \n",
       "1                                           1     ...       \n",
       "2                                           0     ...       \n",
       "3                                           0     ...       \n",
       "4                                           1     ...       \n",
       "..                                        ...     ...       \n",
       "594                                         0     ...       \n",
       "596                                         0     ...       \n",
       "597                                         0     ...       \n",
       "598                                         1     ...       \n",
       "599                                         0     ...       \n",
       "\n",
       "     RecentlyPurchasedSmokingCessationProducts  \\\n",
       "0                                            0   \n",
       "1                                            0   \n",
       "2                                            0   \n",
       "3                                            0   \n",
       "4                                            0   \n",
       "..                                         ...   \n",
       "594                                          0   \n",
       "596                                          0   \n",
       "597                                          0   \n",
       "598                                          0   \n",
       "599                                          0   \n",
       "\n",
       "     PurchasedWineRegularlyUntilRecentlyThenStopped  RecentlyPurchasedWine  \\\n",
       "0                                                 0                      0   \n",
       "1                                                 0                      1   \n",
       "2                                                 0                      0   \n",
       "3                                                 0                      1   \n",
       "4                                                 0                      0   \n",
       "..                                              ...                    ...   \n",
       "594                                               0                      0   \n",
       "596                                               0                      0   \n",
       "597                                               0                      0   \n",
       "598                                               0                      0   \n",
       "599                                               0                      0   \n",
       "\n",
       "     RecentlyPurchasedMaternityClothing  IsPregnant  \n",
       "0                                     0       False  \n",
       "1                                     0       False  \n",
       "2                                     0       False  \n",
       "3                                     0       False  \n",
       "4                                     0       False  \n",
       "..                                  ...         ...  \n",
       "594                                   0        True  \n",
       "596                                   0        True  \n",
       "597                                   1        True  \n",
       "598                                   0        True  \n",
       "599                                   0        True  \n",
       "\n",
       "[495 rows x 18 columns]"
      ]
     },
     "execution_count": 4,
     "metadata": {},
     "output_type": "execute_result"
    }
   ],
   "source": [
    "df = df.replace(False, 0)\n",
    "df = df.replace(True, 1)\n",
    "df # replace T/F with 0s or 1s "
   ]
  },
  {
   "cell_type": "code",
   "execution_count": 5,
   "metadata": {
    "collapsed": true
   },
   "outputs": [],
   "source": [
    "Address_df = pd.get_dummies(df.AccountHolderAddress, prefix = 'Address')\n",
    "Gender_df = pd.get_dummies(df.AccountHolderImpliedGender, prefix = 'Gender', dummy_na = True) # do hot encoding for the variables which contain multiple values "
   ]
  },
  {
   "cell_type": "code",
   "execution_count": 6,
   "metadata": {
    "collapsed": false
   },
   "outputs": [],
   "source": [
    "df = df.join([Address_df,Gender_df]) # join the hot encoded variables "
   ]
  },
  {
   "cell_type": "code",
   "execution_count": null,
   "metadata": {
    "collapsed": false
   },
   "outputs": [],
   "source": [
    "train_df = df.sample(frac = .5, random_state = 0) # did not use this block\n",
    "test_df=df.drop(train_df.index)="
   ]
  },
  {
   "cell_type": "code",
   "execution_count": null,
   "metadata": {
    "collapsed": false
   },
   "outputs": [],
   "source": [
    "train_df.shape # did not use this block"
   ]
  },
  {
   "cell_type": "code",
   "execution_count": null,
   "metadata": {
    "collapsed": false
   },
   "outputs": [],
   "source": [
    "df.describe()# did not use this block"
   ]
  },
  {
   "cell_type": "code",
   "execution_count": null,
   "metadata": {
    "collapsed": false
   },
   "outputs": [],
   "source": [
    "# did not use this block\n",
    "class LassoPolynomial(object):\n",
    "    def __init__(self, alpha, n):\n",
    "        self.features = preprocessing.PolynomialFeatures(n)\n",
    "        self.model = linear_model.Lasso(alpha)\n",
    "\n",
    "    def fit(self, X, y):\n",
    "        self.X = X\n",
    "        self.features.fit(X)\n",
    "\n",
    "        X = self.features.transform(X)\n",
    "        self.model.fit(X, y)\n",
    "\n",
    "        return self\n",
    "\n",
    "    def predict(self, X):\n",
    "        X = self.features.transform(X)\n",
    "        return self.model.predict(X)\n",
    "\n",
    "    def score(self, X, y):\n",
    "        X = self.features.transform(X)\n",
    "        return self.model.score(X, y)\n",
    "\n",
    "    def mean_squared_error(self, X, y):\n",
    "        y_hat = self.predict(X)\n",
    "        return metrics.mean_squared_error(y_hat, y)\n",
    "\n",
    "    def complexity(self):\n",
    "        return np.sum(np.abs(self.model.coef_))"
   ]
  },
  {
   "cell_type": "code",
   "execution_count": null,
   "metadata": {
    "collapsed": true
   },
   "outputs": [],
   "source": [
    "# did not use this block\n",
    "test_X = test_df[[\n",
    "'RecentlyPurchasedPregnancyTest',\n",
    "'RecentlyPurchasedBirthControl',\n",
    "'RecentlyPurchasedFeminineHygieneProducts',\n",
    "'RecentlyPurchasedFolicAcidSupplements',\n",
    "'RecentlyPurchasedPrenatalVitamins',\n",
    "'RecentlyPurchasedPrenatalYogaDVD',\n",
    "'RecentlyPurchasedBodyPillow',\n",
    "'RecentlyPurchasedGingerAle',\n",
    "'RecentlyPurchasedSeaBands',\n",
    "'PurchasedCigarettesRegularlyUntilRecentlyThenStopped',\n",
    "'RecentlyPurchasedCigarettes',\n",
    "'RecentlyPurchasedSmokingCessationProducts',\n",
    "'PurchasedWineRegularlyUntilRecentlyThenStopped',\n",
    "'RecentlyPurchasedWine',\n",
    "'RecentlyPurchasedMaternityClothing',\n",
    "'Address_Apartment',\n",
    "'Address_Home',\n",
    "'Address_PO Box',\n",
    "'Gender_Female',\n",
    "'Gender_Male',\n",
    "'Gender_nan']]\n",
    "\n",
    "test_X = sm.add_constant(test_X)\n",
    "\n",
    "test_y = test_df.IsPregnant\n"
   ]
  },
  {
   "cell_type": "code",
   "execution_count": null,
   "metadata": {
    "collapsed": false
   },
   "outputs": [],
   "source": [
    "# did not use this block\n",
    "train_X = train_df[[\n",
    "'RecentlyPurchasedPregnancyTest',\n",
    "'RecentlyPurchasedBirthControl',\n",
    "'RecentlyPurchasedFeminineHygieneProducts',\n",
    "'RecentlyPurchasedFolicAcidSupplements',\n",
    "'RecentlyPurchasedPrenatalVitamins',\n",
    "'RecentlyPurchasedPrenatalYogaDVD',\n",
    "'RecentlyPurchasedBodyPillow',\n",
    "'RecentlyPurchasedGingerAle',\n",
    "'RecentlyPurchasedSeaBands',\n",
    "'PurchasedCigarettesRegularlyUntilRecentlyThenStopped',\n",
    "'RecentlyPurchasedCigarettes',\n",
    "'RecentlyPurchasedSmokingCessationProducts',\n",
    "'PurchasedWineRegularlyUntilRecentlyThenStopped',\n",
    "'RecentlyPurchasedWine',\n",
    "'RecentlyPurchasedMaternityClothing',\n",
    "'Address_Apartment',\n",
    "'Address_Home',\n",
    "'Address_PO Box',\n",
    "'Gender_Female',\n",
    "'Gender_Male',\n",
    "'Gender_nan']]\n",
    "\n",
    "\n",
    "train_X = sm.add_constant(train_X)\n",
    "\n",
    "train_y = train_df.IsPregnant\n",
    "\n",
    "alphas = [1e-1, 1e-2, 1e-3, 1e-5, 1e-7, 1e-9, 1e-11]\n",
    "\n",
    "models = [LassoPolynomial(alpha, 17).fit(train_X, train_y) for alpha in alphas]\n",
    "\n",
    "model_df = pd.DataFrame({'alpha': alphas, 'model': models})\n",
    "model_df['R^2 (train)'] = model_df.model.apply(lambda model: model.score(train_X, train_y))\n",
    "model_df['R^2 (test)'] = model_df.model.apply(lambda model: model.score(test_X, test_y))\n",
    "model_df['Complexity'] = model_df.model.apply(lambda model: model.complexity())\n",
    "\n",
    "model_df.drop('model', axis = 1).set_index('alpha')\n",
    "\n",
    "models[-1].model.coef_"
   ]
  },
  {
   "cell_type": "code",
   "execution_count": null,
   "metadata": {
    "collapsed": true
   },
   "outputs": [],
   "source": []
  },
  {
   "cell_type": "code",
   "execution_count": 28,
   "metadata": {
    "collapsed": false
   },
   "outputs": [],
   "source": [
    "# split training and test data \n",
    "redo_train_df = df.sample(frac = .6, random_state = 0)\n",
    "redo_test_df = df.drop(redo_train_df.index)"
   ]
  },
  {
   "cell_type": "code",
   "execution_count": 9,
   "metadata": {
    "collapsed": false
   },
   "outputs": [
    {
     "data": {
      "text/plain": [
       "Index([u'AccountHolderImpliedGender', u'AccountHolderAddress',\n",
       "       u'RecentlyPurchasedPregnancyTest', u'RecentlyPurchasedBirthControl',\n",
       "       u'RecentlyPurchasedFeminineHygieneProducts',\n",
       "       u'RecentlyPurchasedFolicAcidSupplements',\n",
       "       u'RecentlyPurchasedPrenatalVitamins',\n",
       "       u'RecentlyPurchasedPrenatalYogaDVD', u'RecentlyPurchasedBodyPillow',\n",
       "       u'RecentlyPurchasedGingerAle', u'RecentlyPurchasedSeaBands',\n",
       "       u'PurchasedCigarettesRegularlyUntilRecentlyThenStopped',\n",
       "       u'RecentlyPurchasedCigarettes',\n",
       "       u'RecentlyPurchasedSmokingCessationProducts',\n",
       "       u'PurchasedWineRegularlyUntilRecentlyThenStopped',\n",
       "       u'RecentlyPurchasedWine', u'RecentlyPurchasedMaternityClothing',\n",
       "       u'IsPregnant', u'Address_Apartment', u'Address_Home', u'Address_PO Box',\n",
       "       u'Gender_Female', u'Gender_Male', u'Gender_nan'],\n",
       "      dtype='object')"
      ]
     },
     "execution_count": 9,
     "metadata": {},
     "output_type": "execute_result"
    }
   ],
   "source": [
    "redo_train_df.columns # get all the features "
   ]
  },
  {
   "cell_type": "code",
   "execution_count": 69,
   "metadata": {
    "collapsed": true
   },
   "outputs": [],
   "source": [
    "# create a list of features that we believe can be used to understand if household is pregnant \n",
    "names_X = ['RecentlyPurchasedBodyPillow','RecentlyPurchasedMaternityClothing', 'RecentlyPurchasedBirthControl', 'PurchasedCigarettesRegularlyUntilRecentlyThenStopped',\n",
    "    'RecentlyPurchasedPrenatalYogaDVD', 'RecentlyPurchasedWine', 'Gender_Male', 'RecentlyPurchasedFeminineHygieneProducts',\n",
    "     'Gender_nan','RecentlyPurchasedFolicAcidSupplements','RecentlyPurchasedCigarettes','RecentlyPurchasedPrenatalVitamins']"
   ]
  },
  {
   "cell_type": "code",
   "execution_count": 70,
   "metadata": {
    "collapsed": false
   },
   "outputs": [],
   "source": [
    "# separates the x varibles and y \n",
    "def X_c(df):\n",
    "    X = df[ names_X ]\n",
    "    c = df.IsPregnant\n",
    "    return X, c\n",
    "\n",
    "redo_train_X, redo_train_c = X_c(redo_train_df)\n",
    "redo_test_X, redo_test_c = X_c(redo_test_df)"
   ]
  },
  {
   "cell_type": "code",
   "execution_count": 71,
   "metadata": {
    "collapsed": false
   },
   "outputs": [],
   "source": [
    "# runs the model \n",
    "model = linear_model.LogisticRegression().\\\n",
    "    fit(redo_train_X, redo_train_c)"
   ]
  },
  {
   "cell_type": "code",
   "execution_count": 72,
   "metadata": {
    "collapsed": false
   },
   "outputs": [
    {
     "name": "stdout",
     "output_type": "stream",
     "text": [
      "[ 0.12122817]\n",
      "[[ 0.78609045  1.73942039 -1.95873236  0.81773687  0.15328004 -1.48152657\n",
      "  -0.5316515  -1.78544548  0.08140966  2.51231569 -1.10824803  1.84650842]]\n"
     ]
    }
   ],
   "source": [
    "print model.intercept_\n",
    "print model.coef_"
   ]
  },
  {
   "cell_type": "code",
   "execution_count": 73,
   "metadata": {
    "collapsed": false
   },
   "outputs": [
    {
     "name": "stdout",
     "output_type": "stream",
     "text": [
      "training misclassification = 0.198653198653\n",
      "testing  misclassification = 0.237373737374\n"
     ]
    }
   ],
   "source": [
    "print 'training misclassification =', 1 - model.score(redo_train_X, redo_train_c)\n",
    "print 'testing  misclassification =', 1 - model.score(redo_test_X, redo_test_c)"
   ]
  },
  {
   "cell_type": "code",
   "execution_count": 74,
   "metadata": {
    "collapsed": false
   },
   "outputs": [
    {
     "data": {
      "text/plain": [
       "[('RecentlyPurchasedBodyPillow', 1.1947989629959679),\n",
       " ('RecentlyPurchasedMaternityClothing', 4.6940421344776535),\n",
       " ('RecentlyPurchasedBirthControl', -0.85896290760773963),\n",
       " ('PurchasedCigarettesRegularlyUntilRecentlyThenStopped', 1.2653672180736932),\n",
       " ('RecentlyPurchasedPrenatalYogaDVD', 0.16565136322814622),\n",
       " ('RecentlyPurchasedWine', -0.77270955051810453),\n",
       " ('Gender_Male', -0.41236630899998283),\n",
       " ('RecentlyPurchasedFeminineHygieneProducts', -0.83227767244810669),\n",
       " ('Gender_nan', 0.084815206646369656),\n",
       " ('RecentlyPurchasedFolicAcidSupplements', 11.333457495213722),\n",
       " ('RecentlyPurchasedCigarettes', -0.66986315438596922),\n",
       " ('RecentlyPurchasedPrenatalVitamins', 5.3376524561039078)]"
      ]
     },
     "execution_count": 74,
     "metadata": {},
     "output_type": "execute_result"
    }
   ],
   "source": [
    "zip(names_X, np.exp(model.coef_[0]) - 1)"
   ]
  },
  {
   "cell_type": "code",
   "execution_count": null,
   "metadata": {
    "collapsed": true
   },
   "outputs": [],
   "source": []
  }
 ],
 "metadata": {
  "anaconda-cloud": {},
  "kernelspec": {
   "display_name": "Python [default]",
   "language": "python",
   "name": "python2"
  },
  "language_info": {
   "codemirror_mode": {
    "name": "ipython",
    "version": 2
   },
   "file_extension": ".py",
   "mimetype": "text/x-python",
   "name": "python",
   "nbconvert_exporter": "python",
   "pygments_lexer": "ipython2",
   "version": "2.7.12"
  }
 },
 "nbformat": 4,
 "nbformat_minor": 1
}
